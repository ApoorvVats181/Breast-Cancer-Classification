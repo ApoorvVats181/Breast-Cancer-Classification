{
 "cells": [
  {
   "cell_type": "code",
   "execution_count": 1,
   "metadata": {},
   "outputs": [],
   "source": [
    "from sklearn import datasets \n",
    "data = datasets.load_breast_cancer()"
   ]
  },
  {
   "cell_type": "code",
   "execution_count": 2,
   "metadata": {},
   "outputs": [],
   "source": [
    "X, y = data.data, data.target"
   ]
  },
  {
   "cell_type": "code",
   "execution_count": 3,
   "metadata": {},
   "outputs": [],
   "source": [
    "from sklearn.preprocessing import StandardScaler\n",
    "scaler = StandardScaler()\n",
    "X =scaler.fit_transform(X)"
   ]
  },
  {
   "cell_type": "code",
   "execution_count": 4,
   "metadata": {},
   "outputs": [],
   "source": [
    "from sklearn.model_selection import train_test_split\n",
    "X_train, X_test, y_train, y_test = train_test_split(X, y, test_size = 0.2, random_state = 42)"
   ]
  },
  {
   "cell_type": "code",
   "execution_count": 5,
   "metadata": {},
   "outputs": [
    {
     "name": "stdout",
     "output_type": "stream",
     "text": [
      "(569, 30)\n",
      "(455, 30)\n",
      "(114, 30)\n"
     ]
    }
   ],
   "source": [
    "print(X.shape)\n",
    "print(X_train.shape)\n",
    "print(X_test.shape)"
   ]
  },
  {
   "cell_type": "code",
   "execution_count": 6,
   "metadata": {},
   "outputs": [
    {
     "name": "stdout",
     "output_type": "stream",
     "text": [
      "(569,)\n",
      "(455,)\n",
      "(114,)\n"
     ]
    }
   ],
   "source": [
    "print(y.shape)\n",
    "print(y_train.shape)\n",
    "print(y_test.shape)"
   ]
  },
  {
   "cell_type": "code",
   "execution_count": 7,
   "metadata": {},
   "outputs": [],
   "source": [
    "from keras.models import Sequential\n",
    "from keras.layers import Dense"
   ]
  },
  {
   "cell_type": "code",
   "execution_count": 8,
   "metadata": {},
   "outputs": [],
   "source": [
    "#initialize ANN\n",
    "model = Sequential()"
   ]
  },
  {
   "cell_type": "code",
   "execution_count": 9,
   "metadata": {},
   "outputs": [],
   "source": [
    "# layers\n",
    "model.add(Dense(units = 16, activation = 'relu', input_dim = 30))  \n",
    "model.add(Dense(units = 8, activation = 'relu')) \n",
    "model.add(Dense(units = 6, activation = 'relu')) \n",
    "model.add(Dense(units = 1, activation = 'sigmoid'))  "
   ]
  },
  {
   "cell_type": "code",
   "execution_count": 10,
   "metadata": {},
   "outputs": [],
   "source": [
    "from keras.optimizers import Adam\n",
    "model.compile(loss = 'binary_crossentropy', optimizer = 'adam', metrics = ['accuracy'])  "
   ]
  },
  {
   "cell_type": "code",
   "execution_count": 11,
   "metadata": {},
   "outputs": [
    {
     "name": "stdout",
     "output_type": "stream",
     "text": [
      "Model: \"sequential\"\n",
      "_________________________________________________________________\n",
      "Layer (type)                 Output Shape              Param #   \n",
      "=================================================================\n",
      "dense (Dense)                (None, 16)                496       \n",
      "_________________________________________________________________\n",
      "dense_1 (Dense)              (None, 8)                 136       \n",
      "_________________________________________________________________\n",
      "dense_2 (Dense)              (None, 6)                 54        \n",
      "_________________________________________________________________\n",
      "dense_3 (Dense)              (None, 1)                 7         \n",
      "=================================================================\n",
      "Total params: 693\n",
      "Trainable params: 693\n",
      "Non-trainable params: 0\n",
      "_________________________________________________________________\n"
     ]
    }
   ],
   "source": [
    "model.summary()"
   ]
  },
  {
   "cell_type": "code",
   "execution_count": 12,
   "metadata": {},
   "outputs": [
    {
     "name": "stdout",
     "output_type": "stream",
     "text": [
      "Epoch 1/150\n",
      "12/12 - 0s - loss: 0.6945 - accuracy: 0.4505 - val_loss: 0.6877 - val_accuracy: 0.4945\n",
      "Epoch 2/150\n",
      "12/12 - 0s - loss: 0.6826 - accuracy: 0.6429 - val_loss: 0.6755 - val_accuracy: 0.6813\n",
      "Epoch 3/150\n",
      "12/12 - 0s - loss: 0.6643 - accuracy: 0.7115 - val_loss: 0.6542 - val_accuracy: 0.7473\n",
      "Epoch 4/150\n",
      "12/12 - 0s - loss: 0.6382 - accuracy: 0.7610 - val_loss: 0.6252 - val_accuracy: 0.8022\n",
      "Epoch 5/150\n",
      "12/12 - 0s - loss: 0.6014 - accuracy: 0.8297 - val_loss: 0.5801 - val_accuracy: 0.8571\n",
      "Epoch 6/150\n",
      "12/12 - 0s - loss: 0.5484 - accuracy: 0.8681 - val_loss: 0.5207 - val_accuracy: 0.8901\n",
      "Epoch 7/150\n",
      "12/12 - 0s - loss: 0.4863 - accuracy: 0.9066 - val_loss: 0.4542 - val_accuracy: 0.9011\n",
      "Epoch 8/150\n",
      "12/12 - 0s - loss: 0.4184 - accuracy: 0.9231 - val_loss: 0.3894 - val_accuracy: 0.9231\n",
      "Epoch 9/150\n",
      "12/12 - 0s - loss: 0.3519 - accuracy: 0.9341 - val_loss: 0.3251 - val_accuracy: 0.9231\n",
      "Epoch 10/150\n",
      "12/12 - 0s - loss: 0.2902 - accuracy: 0.9368 - val_loss: 0.2702 - val_accuracy: 0.9451\n",
      "Epoch 11/150\n",
      "12/12 - 0s - loss: 0.2385 - accuracy: 0.9396 - val_loss: 0.2281 - val_accuracy: 0.9451\n",
      "Epoch 12/150\n",
      "12/12 - 0s - loss: 0.1982 - accuracy: 0.9451 - val_loss: 0.1979 - val_accuracy: 0.9451\n",
      "Epoch 13/150\n",
      "12/12 - 0s - loss: 0.1696 - accuracy: 0.9505 - val_loss: 0.1758 - val_accuracy: 0.9451\n",
      "Epoch 14/150\n",
      "12/12 - 0s - loss: 0.1465 - accuracy: 0.9505 - val_loss: 0.1605 - val_accuracy: 0.9451\n",
      "Epoch 15/150\n",
      "12/12 - 0s - loss: 0.1296 - accuracy: 0.9588 - val_loss: 0.1485 - val_accuracy: 0.9670\n",
      "Epoch 16/150\n",
      "12/12 - 0s - loss: 0.1166 - accuracy: 0.9615 - val_loss: 0.1394 - val_accuracy: 0.9670\n",
      "Epoch 17/150\n",
      "12/12 - 0s - loss: 0.1065 - accuracy: 0.9725 - val_loss: 0.1320 - val_accuracy: 0.9670\n",
      "Epoch 18/150\n",
      "12/12 - 0s - loss: 0.0979 - accuracy: 0.9780 - val_loss: 0.1263 - val_accuracy: 0.9670\n",
      "Epoch 19/150\n",
      "12/12 - 0s - loss: 0.0918 - accuracy: 0.9780 - val_loss: 0.1214 - val_accuracy: 0.9670\n",
      "Epoch 20/150\n",
      "12/12 - 0s - loss: 0.0861 - accuracy: 0.9780 - val_loss: 0.1181 - val_accuracy: 0.9670\n",
      "Epoch 21/150\n",
      "12/12 - 0s - loss: 0.0816 - accuracy: 0.9780 - val_loss: 0.1159 - val_accuracy: 0.9670\n",
      "Epoch 22/150\n",
      "12/12 - 0s - loss: 0.0781 - accuracy: 0.9808 - val_loss: 0.1138 - val_accuracy: 0.9670\n",
      "Epoch 23/150\n",
      "12/12 - 0s - loss: 0.0747 - accuracy: 0.9808 - val_loss: 0.1115 - val_accuracy: 0.9670\n",
      "Epoch 24/150\n",
      "12/12 - 0s - loss: 0.0719 - accuracy: 0.9808 - val_loss: 0.1093 - val_accuracy: 0.9670\n",
      "Epoch 25/150\n",
      "12/12 - 0s - loss: 0.0693 - accuracy: 0.9835 - val_loss: 0.1075 - val_accuracy: 0.9670\n",
      "Epoch 26/150\n",
      "12/12 - 0s - loss: 0.0672 - accuracy: 0.9835 - val_loss: 0.1057 - val_accuracy: 0.9670\n",
      "Epoch 27/150\n",
      "12/12 - 0s - loss: 0.0650 - accuracy: 0.9835 - val_loss: 0.1043 - val_accuracy: 0.9670\n",
      "Epoch 28/150\n",
      "12/12 - 0s - loss: 0.0633 - accuracy: 0.9835 - val_loss: 0.1029 - val_accuracy: 0.9670\n",
      "Epoch 29/150\n",
      "12/12 - 0s - loss: 0.0615 - accuracy: 0.9835 - val_loss: 0.1017 - val_accuracy: 0.9670\n",
      "Epoch 30/150\n",
      "12/12 - 0s - loss: 0.0600 - accuracy: 0.9835 - val_loss: 0.1008 - val_accuracy: 0.9670\n",
      "Epoch 31/150\n",
      "12/12 - 0s - loss: 0.0584 - accuracy: 0.9863 - val_loss: 0.0997 - val_accuracy: 0.9670\n",
      "Epoch 32/150\n",
      "12/12 - 0s - loss: 0.0572 - accuracy: 0.9863 - val_loss: 0.0982 - val_accuracy: 0.9670\n",
      "Epoch 33/150\n",
      "12/12 - 0s - loss: 0.0555 - accuracy: 0.9863 - val_loss: 0.0972 - val_accuracy: 0.9670\n",
      "Epoch 34/150\n",
      "12/12 - 0s - loss: 0.0543 - accuracy: 0.9890 - val_loss: 0.0968 - val_accuracy: 0.9670\n",
      "Epoch 35/150\n",
      "12/12 - 0s - loss: 0.0532 - accuracy: 0.9890 - val_loss: 0.0962 - val_accuracy: 0.9670\n",
      "Epoch 36/150\n",
      "12/12 - 0s - loss: 0.0518 - accuracy: 0.9890 - val_loss: 0.0953 - val_accuracy: 0.9670\n",
      "Epoch 37/150\n",
      "12/12 - 0s - loss: 0.0504 - accuracy: 0.9890 - val_loss: 0.0946 - val_accuracy: 0.9670\n",
      "Epoch 38/150\n",
      "12/12 - 0s - loss: 0.0494 - accuracy: 0.9890 - val_loss: 0.0940 - val_accuracy: 0.9670\n",
      "Epoch 39/150\n",
      "12/12 - 0s - loss: 0.0485 - accuracy: 0.9890 - val_loss: 0.0936 - val_accuracy: 0.9670\n",
      "Epoch 40/150\n",
      "12/12 - 0s - loss: 0.0474 - accuracy: 0.9890 - val_loss: 0.0923 - val_accuracy: 0.9670\n",
      "Epoch 41/150\n",
      "12/12 - 0s - loss: 0.0465 - accuracy: 0.9863 - val_loss: 0.0919 - val_accuracy: 0.9670\n",
      "Epoch 42/150\n",
      "12/12 - 0s - loss: 0.0456 - accuracy: 0.9890 - val_loss: 0.0914 - val_accuracy: 0.9670\n",
      "Epoch 43/150\n",
      "12/12 - 0s - loss: 0.0447 - accuracy: 0.9890 - val_loss: 0.0909 - val_accuracy: 0.9670\n",
      "Epoch 44/150\n",
      "12/12 - 0s - loss: 0.0440 - accuracy: 0.9890 - val_loss: 0.0911 - val_accuracy: 0.9670\n",
      "Epoch 45/150\n",
      "12/12 - 0s - loss: 0.0432 - accuracy: 0.9890 - val_loss: 0.0909 - val_accuracy: 0.9670\n",
      "Epoch 46/150\n",
      "12/12 - 0s - loss: 0.0422 - accuracy: 0.9890 - val_loss: 0.0905 - val_accuracy: 0.9670\n",
      "Epoch 47/150\n",
      "12/12 - 0s - loss: 0.0414 - accuracy: 0.9863 - val_loss: 0.0893 - val_accuracy: 0.9670\n",
      "Epoch 48/150\n",
      "12/12 - 0s - loss: 0.0406 - accuracy: 0.9863 - val_loss: 0.0890 - val_accuracy: 0.9670\n",
      "Epoch 49/150\n",
      "12/12 - 0s - loss: 0.0397 - accuracy: 0.9863 - val_loss: 0.0879 - val_accuracy: 0.9670\n",
      "Epoch 50/150\n",
      "12/12 - 0s - loss: 0.0389 - accuracy: 0.9863 - val_loss: 0.0879 - val_accuracy: 0.9670\n",
      "Epoch 51/150\n",
      "12/12 - 0s - loss: 0.0383 - accuracy: 0.9890 - val_loss: 0.0880 - val_accuracy: 0.9670\n",
      "Epoch 52/150\n",
      "12/12 - 0s - loss: 0.0371 - accuracy: 0.9890 - val_loss: 0.0872 - val_accuracy: 0.9670\n",
      "Epoch 53/150\n",
      "12/12 - 0s - loss: 0.0362 - accuracy: 0.9890 - val_loss: 0.0867 - val_accuracy: 0.9670\n",
      "Epoch 54/150\n",
      "12/12 - 0s - loss: 0.0353 - accuracy: 0.9890 - val_loss: 0.0864 - val_accuracy: 0.9670\n",
      "Epoch 55/150\n",
      "12/12 - 0s - loss: 0.0348 - accuracy: 0.9890 - val_loss: 0.0867 - val_accuracy: 0.9670\n",
      "Epoch 56/150\n",
      "12/12 - 0s - loss: 0.0339 - accuracy: 0.9890 - val_loss: 0.0862 - val_accuracy: 0.9670\n",
      "Epoch 57/150\n",
      "12/12 - 0s - loss: 0.0331 - accuracy: 0.9890 - val_loss: 0.0858 - val_accuracy: 0.9670\n",
      "Epoch 58/150\n",
      "12/12 - 0s - loss: 0.0323 - accuracy: 0.9890 - val_loss: 0.0858 - val_accuracy: 0.9670\n",
      "Epoch 59/150\n",
      "12/12 - 0s - loss: 0.0318 - accuracy: 0.9890 - val_loss: 0.0859 - val_accuracy: 0.9670\n",
      "Epoch 60/150\n",
      "12/12 - 0s - loss: 0.0311 - accuracy: 0.9890 - val_loss: 0.0854 - val_accuracy: 0.9670\n",
      "Epoch 61/150\n",
      "12/12 - 0s - loss: 0.0303 - accuracy: 0.9890 - val_loss: 0.0856 - val_accuracy: 0.9670\n",
      "Epoch 62/150\n",
      "12/12 - 0s - loss: 0.0297 - accuracy: 0.9890 - val_loss: 0.0851 - val_accuracy: 0.9670\n",
      "Epoch 63/150\n",
      "12/12 - 0s - loss: 0.0289 - accuracy: 0.9918 - val_loss: 0.0853 - val_accuracy: 0.9670\n",
      "Epoch 64/150\n",
      "12/12 - 0s - loss: 0.0284 - accuracy: 0.9918 - val_loss: 0.0856 - val_accuracy: 0.9670\n",
      "Epoch 65/150\n",
      "12/12 - 0s - loss: 0.0277 - accuracy: 0.9918 - val_loss: 0.0853 - val_accuracy: 0.9670\n",
      "Epoch 66/150\n",
      "12/12 - 0s - loss: 0.0276 - accuracy: 0.9918 - val_loss: 0.0858 - val_accuracy: 0.9670\n",
      "Epoch 67/150\n",
      "12/12 - 0s - loss: 0.0267 - accuracy: 0.9945 - val_loss: 0.0843 - val_accuracy: 0.9670\n",
      "Epoch 68/150\n",
      "12/12 - 0s - loss: 0.0260 - accuracy: 0.9945 - val_loss: 0.0844 - val_accuracy: 0.9670\n",
      "Epoch 69/150\n",
      "12/12 - 0s - loss: 0.0255 - accuracy: 0.9945 - val_loss: 0.0849 - val_accuracy: 0.9670\n",
      "Epoch 70/150\n",
      "12/12 - 0s - loss: 0.0251 - accuracy: 0.9945 - val_loss: 0.0853 - val_accuracy: 0.9670\n",
      "Epoch 71/150\n",
      "12/12 - 0s - loss: 0.0242 - accuracy: 0.9945 - val_loss: 0.0849 - val_accuracy: 0.9670\n",
      "Epoch 72/150\n",
      "12/12 - 0s - loss: 0.0238 - accuracy: 0.9945 - val_loss: 0.0848 - val_accuracy: 0.9670\n",
      "Epoch 73/150\n",
      "12/12 - 0s - loss: 0.0234 - accuracy: 0.9945 - val_loss: 0.0848 - val_accuracy: 0.9670\n",
      "Epoch 74/150\n",
      "12/12 - 0s - loss: 0.0232 - accuracy: 0.9945 - val_loss: 0.0845 - val_accuracy: 0.9670\n",
      "Epoch 75/150\n",
      "12/12 - 0s - loss: 0.0224 - accuracy: 0.9945 - val_loss: 0.0851 - val_accuracy: 0.9670\n",
      "Epoch 76/150\n",
      "12/12 - 0s - loss: 0.0220 - accuracy: 0.9945 - val_loss: 0.0860 - val_accuracy: 0.9670\n",
      "Epoch 77/150\n",
      "12/12 - 0s - loss: 0.0215 - accuracy: 0.9945 - val_loss: 0.0864 - val_accuracy: 0.9670\n",
      "Epoch 78/150\n",
      "12/12 - 0s - loss: 0.0211 - accuracy: 0.9945 - val_loss: 0.0868 - val_accuracy: 0.9670\n",
      "Epoch 79/150\n",
      "12/12 - 0s - loss: 0.0208 - accuracy: 0.9945 - val_loss: 0.0873 - val_accuracy: 0.9670\n",
      "Epoch 80/150\n",
      "12/12 - 0s - loss: 0.0203 - accuracy: 0.9945 - val_loss: 0.0872 - val_accuracy: 0.9670\n",
      "Epoch 81/150\n",
      "12/12 - 0s - loss: 0.0202 - accuracy: 0.9945 - val_loss: 0.0887 - val_accuracy: 0.9670\n",
      "Epoch 82/150\n",
      "12/12 - 0s - loss: 0.0195 - accuracy: 0.9945 - val_loss: 0.0902 - val_accuracy: 0.9670\n",
      "Epoch 83/150\n",
      "12/12 - 0s - loss: 0.0191 - accuracy: 0.9945 - val_loss: 0.0909 - val_accuracy: 0.9670\n"
     ]
    },
    {
     "name": "stdout",
     "output_type": "stream",
     "text": [
      "Epoch 84/150\n",
      "12/12 - 0s - loss: 0.0189 - accuracy: 0.9945 - val_loss: 0.0901 - val_accuracy: 0.9670\n",
      "Epoch 85/150\n",
      "12/12 - 0s - loss: 0.0186 - accuracy: 0.9945 - val_loss: 0.0908 - val_accuracy: 0.9670\n",
      "Epoch 86/150\n",
      "12/12 - 0s - loss: 0.0182 - accuracy: 0.9945 - val_loss: 0.0908 - val_accuracy: 0.9670\n",
      "Epoch 87/150\n",
      "12/12 - 0s - loss: 0.0179 - accuracy: 0.9945 - val_loss: 0.0884 - val_accuracy: 0.9670\n",
      "Epoch 88/150\n",
      "12/12 - 0s - loss: 0.0177 - accuracy: 0.9945 - val_loss: 0.0894 - val_accuracy: 0.9670\n",
      "Epoch 89/150\n",
      "12/12 - 0s - loss: 0.0173 - accuracy: 0.9945 - val_loss: 0.0911 - val_accuracy: 0.9670\n",
      "Epoch 90/150\n",
      "12/12 - 0s - loss: 0.0171 - accuracy: 0.9945 - val_loss: 0.0924 - val_accuracy: 0.9670\n",
      "Epoch 91/150\n",
      "12/12 - 0s - loss: 0.0168 - accuracy: 0.9945 - val_loss: 0.0943 - val_accuracy: 0.9670\n",
      "Epoch 92/150\n",
      "12/12 - 0s - loss: 0.0165 - accuracy: 0.9945 - val_loss: 0.0947 - val_accuracy: 0.9670\n",
      "Epoch 93/150\n",
      "12/12 - 0s - loss: 0.0163 - accuracy: 0.9945 - val_loss: 0.0949 - val_accuracy: 0.9670\n",
      "Epoch 94/150\n",
      "12/12 - 0s - loss: 0.0161 - accuracy: 0.9945 - val_loss: 0.0933 - val_accuracy: 0.9670\n",
      "Epoch 95/150\n",
      "12/12 - 0s - loss: 0.0157 - accuracy: 0.9945 - val_loss: 0.0937 - val_accuracy: 0.9670\n",
      "Epoch 96/150\n",
      "12/12 - 0s - loss: 0.0155 - accuracy: 0.9945 - val_loss: 0.0951 - val_accuracy: 0.9670\n",
      "Epoch 97/150\n",
      "12/12 - 0s - loss: 0.0153 - accuracy: 0.9945 - val_loss: 0.0949 - val_accuracy: 0.9670\n",
      "Epoch 98/150\n",
      "12/12 - 0s - loss: 0.0150 - accuracy: 0.9945 - val_loss: 0.0958 - val_accuracy: 0.9670\n",
      "Epoch 99/150\n",
      "12/12 - 0s - loss: 0.0148 - accuracy: 0.9945 - val_loss: 0.0961 - val_accuracy: 0.9670\n",
      "Epoch 100/150\n",
      "12/12 - 0s - loss: 0.0146 - accuracy: 0.9945 - val_loss: 0.0969 - val_accuracy: 0.9560\n",
      "Epoch 101/150\n",
      "12/12 - 0s - loss: 0.0145 - accuracy: 0.9945 - val_loss: 0.0970 - val_accuracy: 0.9560\n",
      "Epoch 102/150\n",
      "12/12 - 0s - loss: 0.0142 - accuracy: 0.9945 - val_loss: 0.0968 - val_accuracy: 0.9560\n",
      "Epoch 103/150\n",
      "12/12 - 0s - loss: 0.0140 - accuracy: 0.9945 - val_loss: 0.0971 - val_accuracy: 0.9560\n",
      "Epoch 104/150\n",
      "12/12 - 0s - loss: 0.0138 - accuracy: 0.9945 - val_loss: 0.0982 - val_accuracy: 0.9560\n",
      "Epoch 105/150\n",
      "12/12 - 0s - loss: 0.0136 - accuracy: 0.9945 - val_loss: 0.0988 - val_accuracy: 0.9560\n",
      "Epoch 106/150\n",
      "12/12 - 0s - loss: 0.0134 - accuracy: 0.9945 - val_loss: 0.0991 - val_accuracy: 0.9560\n",
      "Epoch 107/150\n",
      "12/12 - 0s - loss: 0.0132 - accuracy: 0.9945 - val_loss: 0.0994 - val_accuracy: 0.9560\n",
      "Epoch 108/150\n",
      "12/12 - 0s - loss: 0.0131 - accuracy: 0.9945 - val_loss: 0.1008 - val_accuracy: 0.9560\n",
      "Epoch 109/150\n",
      "12/12 - 0s - loss: 0.0129 - accuracy: 0.9945 - val_loss: 0.1013 - val_accuracy: 0.9451\n",
      "Epoch 110/150\n",
      "12/12 - 0s - loss: 0.0127 - accuracy: 0.9945 - val_loss: 0.1027 - val_accuracy: 0.9451\n",
      "Epoch 111/150\n",
      "12/12 - 0s - loss: 0.0127 - accuracy: 0.9945 - val_loss: 0.1029 - val_accuracy: 0.9560\n",
      "Epoch 112/150\n",
      "12/12 - 0s - loss: 0.0124 - accuracy: 0.9945 - val_loss: 0.1022 - val_accuracy: 0.9451\n",
      "Epoch 113/150\n",
      "12/12 - 0s - loss: 0.0124 - accuracy: 0.9945 - val_loss: 0.1042 - val_accuracy: 0.9451\n",
      "Epoch 114/150\n",
      "12/12 - 0s - loss: 0.0122 - accuracy: 0.9945 - val_loss: 0.1053 - val_accuracy: 0.9451\n",
      "Epoch 115/150\n",
      "12/12 - 0s - loss: 0.0120 - accuracy: 0.9945 - val_loss: 0.1059 - val_accuracy: 0.9451\n",
      "Epoch 116/150\n",
      "12/12 - 0s - loss: 0.0118 - accuracy: 0.9945 - val_loss: 0.1067 - val_accuracy: 0.9451\n",
      "Epoch 117/150\n",
      "12/12 - 0s - loss: 0.0116 - accuracy: 0.9945 - val_loss: 0.1077 - val_accuracy: 0.9451\n",
      "Epoch 118/150\n",
      "12/12 - 0s - loss: 0.0114 - accuracy: 0.9945 - val_loss: 0.1092 - val_accuracy: 0.9451\n",
      "Epoch 119/150\n",
      "12/12 - 0s - loss: 0.0112 - accuracy: 0.9945 - val_loss: 0.1103 - val_accuracy: 0.9451\n",
      "Epoch 120/150\n",
      "12/12 - 0s - loss: 0.0111 - accuracy: 0.9945 - val_loss: 0.1102 - val_accuracy: 0.9451\n",
      "Epoch 121/150\n",
      "12/12 - 0s - loss: 0.0108 - accuracy: 0.9945 - val_loss: 0.1121 - val_accuracy: 0.9451\n",
      "Epoch 122/150\n",
      "12/12 - 0s - loss: 0.0107 - accuracy: 0.9945 - val_loss: 0.1119 - val_accuracy: 0.9451\n",
      "Epoch 123/150\n",
      "12/12 - 0s - loss: 0.0105 - accuracy: 0.9945 - val_loss: 0.1121 - val_accuracy: 0.9451\n",
      "Epoch 124/150\n",
      "12/12 - 0s - loss: 0.0103 - accuracy: 0.9945 - val_loss: 0.1137 - val_accuracy: 0.9451\n",
      "Epoch 125/150\n",
      "12/12 - 0s - loss: 0.0096 - accuracy: 0.9945 - val_loss: 0.1177 - val_accuracy: 0.9560\n",
      "Epoch 126/150\n",
      "12/12 - 0s - loss: 0.0089 - accuracy: 0.9973 - val_loss: 0.1205 - val_accuracy: 0.9560\n",
      "Epoch 127/150\n",
      "12/12 - 0s - loss: 0.0082 - accuracy: 0.9973 - val_loss: 0.1215 - val_accuracy: 0.9560\n",
      "Epoch 128/150\n",
      "12/12 - 0s - loss: 0.0075 - accuracy: 0.9973 - val_loss: 0.1229 - val_accuracy: 0.9560\n",
      "Epoch 129/150\n",
      "12/12 - 0s - loss: 0.0072 - accuracy: 0.9973 - val_loss: 0.1238 - val_accuracy: 0.9560\n",
      "Epoch 130/150\n",
      "12/12 - 0s - loss: 0.0069 - accuracy: 0.9973 - val_loss: 0.1255 - val_accuracy: 0.9560\n",
      "Epoch 131/150\n",
      "12/12 - 0s - loss: 0.0067 - accuracy: 0.9973 - val_loss: 0.1274 - val_accuracy: 0.9560\n",
      "Epoch 132/150\n",
      "12/12 - 0s - loss: 0.0066 - accuracy: 0.9973 - val_loss: 0.1219 - val_accuracy: 0.9560\n",
      "Epoch 133/150\n",
      "12/12 - 0s - loss: 0.0062 - accuracy: 0.9973 - val_loss: 0.1267 - val_accuracy: 0.9560\n",
      "Epoch 134/150\n",
      "12/12 - 0s - loss: 0.0059 - accuracy: 0.9973 - val_loss: 0.1298 - val_accuracy: 0.9560\n",
      "Epoch 135/150\n",
      "12/12 - 0s - loss: 0.0055 - accuracy: 0.9973 - val_loss: 0.1318 - val_accuracy: 0.9560\n",
      "Epoch 136/150\n",
      "12/12 - 0s - loss: 0.0052 - accuracy: 1.0000 - val_loss: 0.1345 - val_accuracy: 0.9560\n",
      "Epoch 137/150\n",
      "12/12 - 0s - loss: 0.0049 - accuracy: 1.0000 - val_loss: 0.1365 - val_accuracy: 0.9560\n",
      "Epoch 138/150\n",
      "12/12 - 0s - loss: 0.0046 - accuracy: 1.0000 - val_loss: 0.1394 - val_accuracy: 0.9560\n",
      "Epoch 139/150\n",
      "12/12 - 0s - loss: 0.0043 - accuracy: 1.0000 - val_loss: 0.1409 - val_accuracy: 0.9560\n",
      "Epoch 140/150\n",
      "12/12 - 0s - loss: 0.0041 - accuracy: 1.0000 - val_loss: 0.1456 - val_accuracy: 0.9560\n",
      "Epoch 141/150\n",
      "12/12 - 0s - loss: 0.0037 - accuracy: 1.0000 - val_loss: 0.1484 - val_accuracy: 0.9560\n",
      "Epoch 142/150\n",
      "12/12 - 0s - loss: 0.0036 - accuracy: 1.0000 - val_loss: 0.1508 - val_accuracy: 0.9560\n",
      "Epoch 143/150\n",
      "12/12 - 0s - loss: 0.0034 - accuracy: 1.0000 - val_loss: 0.1514 - val_accuracy: 0.9560\n",
      "Epoch 144/150\n",
      "12/12 - 0s - loss: 0.0033 - accuracy: 1.0000 - val_loss: 0.1514 - val_accuracy: 0.9560\n",
      "Epoch 145/150\n",
      "12/12 - 0s - loss: 0.0031 - accuracy: 1.0000 - val_loss: 0.1535 - val_accuracy: 0.9560\n",
      "Epoch 146/150\n",
      "12/12 - 0s - loss: 0.0032 - accuracy: 1.0000 - val_loss: 0.1487 - val_accuracy: 0.9560\n",
      "Epoch 147/150\n",
      "12/12 - 0s - loss: 0.0030 - accuracy: 1.0000 - val_loss: 0.1547 - val_accuracy: 0.9560\n",
      "Epoch 148/150\n",
      "12/12 - 0s - loss: 0.0027 - accuracy: 1.0000 - val_loss: 0.1588 - val_accuracy: 0.9560\n",
      "Epoch 149/150\n",
      "12/12 - 0s - loss: 0.0026 - accuracy: 1.0000 - val_loss: 0.1616 - val_accuracy: 0.9560\n",
      "Epoch 150/150\n",
      "12/12 - 0s - loss: 0.0025 - accuracy: 1.0000 - val_loss: 0.1606 - val_accuracy: 0.9560\n"
     ]
    }
   ],
   "source": [
    "h= model.fit(X_train,\n",
    "             y_train,\n",
    "             batch_size = 32,\n",
    "             epochs = 150,\n",
    "             verbose = 2,\n",
    "             validation_split = 0.2)"
   ]
  },
  {
   "cell_type": "code",
   "execution_count": 13,
   "metadata": {},
   "outputs": [
    {
     "data": {
      "image/png": "[encoded data removed]",
      "text/plain": [
       "<Figure size 1152x432 with 2 Axes>"
      ]
     },
     "metadata": {
      "needs_background": "light"
     },
     "output_type": "display_data"
    }
   ],
   "source": [
    "import matplotlib.pyplot as plt\n",
    "\n",
    "plt.figure(figsize=(16,6))\n",
    "\n",
    "plt.subplot(1,2,1)\n",
    "plt.plot(range(1,151), h.history['loss'], c = 'b', label = 'Training Loss')\n",
    "plt.plot(range(1,151), h.history['val_loss'], c = 'g', label = 'Validation Loss')\n",
    "plt.legend()\n",
    "plt.title(\"LOSS\")\n",
    "plt.xlabel(\"Epochs\")\n",
    "plt.ylabel(\"Loss\")\n",
    "\n",
    "plt.subplot(1,2,2)\n",
    "plt.plot(range(1,151), h.history['accuracy'], c = 'b', label = 'Training Accuracy')\n",
    "plt.plot(range(1,151), h.history['val_accuracy'], c = 'g', label = 'Validation Accuracy')\n",
    "plt.legend()\n",
    "plt.title(\"ACCURACY\")\n",
    "plt.xlabel(\"Epochs\")\n",
    "plt.ylabel(\"Accuracy\")\n",
    "\n",
    "plt.show()"
   ]
  },
  {
   "cell_type": "code",
   "execution_count": 14,
   "metadata": {},
   "outputs": [],
   "source": [
    "Y_pred = model.predict(X_test)"
   ]
  },
  {
   "cell_type": "code",
   "execution_count": 15,
   "metadata": {},
   "outputs": [],
   "source": [
    "Y_pred = [1 if y>=0.5 else 0 for y in Y_pred]"
   ]
  },
  {
   "cell_type": "code",
   "execution_count": 16,
   "metadata": {},
   "outputs": [
    {
     "name": "stdout",
     "output_type": "stream",
     "text": [
      "Total :  114\n",
      "Correct :  112\n",
      "Wrong :  2\n"
     ]
    }
   ],
   "source": [
    "total = 0\n",
    "correct = 0\n",
    "wrong = 0\n",
    "for i in range (len(Y_pred)):\n",
    "    total +=1\n",
    "    if(y_test[i] == Y_pred[i]):\n",
    "        correct+=1\n",
    "    else:\n",
    "        wrong+=1\n",
    "\n",
    "print('Total : ',total)\n",
    "print('Correct : ',correct)\n",
    "print('Wrong : ',wrong)"
   ]
  },
  {
   "cell_type": "code",
   "execution_count": 17,
   "metadata": {},
   "outputs": [
    {
     "name": "stdout",
     "output_type": "stream",
     "text": [
      "Accuracy:  98.24561403508771 %\n",
      "Precision:  0.9726027397260274\n",
      "Recall:  1.0\n",
      "F1 score:  0.9861111111111112\n"
     ]
    }
   ],
   "source": [
    "from sklearn.metrics import accuracy_score, precision_score, recall_score, f1_score\n",
    "\n",
    "\n",
    "acc = accuracy_score(y_test, Y_pred)\n",
    "prec = precision_score(y_test, Y_pred)\n",
    "rec = recall_score(y_test, Y_pred)\n",
    "f1 = f1_score(y_test, Y_pred)\n",
    "\n",
    "\n",
    "print('Accuracy: ',acc*100,'%')\n",
    "print('Precision: ',prec)\n",
    "print('Recall: ',rec)\n",
    "print('F1 score: ',f1)"
   ]
  },
  {
   "cell_type": "code",
   "execution_count": 18,
   "metadata": {},
   "outputs": [
    {
     "data": {
      "text/plain": [
       "<AxesSubplot:>"
      ]
     },
     "execution_count": 18,
     "metadata": {},
     "output_type": "execute_result"
    },
    {
     "data": {
      "image/png": "[encoded data removed]",
      "text/plain": [
       "<Figure size 432x288 with 2 Axes>"
      ]
     },
     "metadata": {
      "needs_background": "light"
     },
     "output_type": "display_data"
    }
   ],
   "source": [
    "import seaborn as sns\n",
    "from sklearn.metrics import classification_report, confusion_matrix\n",
    "cm = confusion_matrix(y_test, Y_pred)\n",
    "sns.heatmap(cm, annot = True, cmap='Blues')"
   ]
  },
  {
   "cell_type": "code",
   "execution_count": 19,
   "metadata": {},
   "outputs": [],
   "source": [
    "import tensorflow as tf\n",
    "from keras.models import load_model\n",
    "\n",
    "model.save('Breast_Cancer_Classification.h5')"
   ]
  },
  {
   "cell_type": "code",
   "execution_count": null,
   "metadata": {},
   "outputs": [],
   "source": []
  }
 ],
 "metadata": {
  "kernelspec": {
   "display_name": "Python 3.8.4 64-bit",
   "language": "python",
   "name": "python38464bit1352255a90b54881a2095dcfc1b749cb"
  },
  "language_info": {
   "codemirror_mode": {
    "name": "ipython",
    "version": 3
   },
   "file_extension": ".py",
   "mimetype": "text/x-python",
   "name": "python",
   "nbconvert_exporter": "python",
   "pygments_lexer": "ipython3",
   "version": "3.8.4"
  }
 },
 "nbformat": 4,
 "nbformat_minor": 4
}
